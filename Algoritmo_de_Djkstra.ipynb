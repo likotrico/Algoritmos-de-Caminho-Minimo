{
  "nbformat": 4,
  "nbformat_minor": 0,
  "metadata": {
    "colab": {
      "provenance": []
    },
    "kernelspec": {
      "name": "python3",
      "display_name": "Python 3"
    },
    "language_info": {
      "name": "python"
    }
  },
  "cells": [
    {
      "cell_type": "code",
      "source": [
        "import numpy as np"
      ],
      "metadata": {
        "id": "JH5f1aGH0wgH"
      },
      "execution_count": 1,
      "outputs": []
    },
    {
      "cell_type": "code",
      "execution_count": 2,
      "metadata": {
        "id": "Wc4ODezVm-SZ"
      },
      "outputs": [],
      "source": [
        "class Vertice:\n",
        "  def __init__(self, numero, adj_list_entrada, adj_list_saida):\n",
        "    self.numero = numero\n",
        "    self.adj_list_entrada = adj_list_entrada\n",
        "    self.adj_list_saida = adj_list_saida\n",
        "\n",
        "  def numero(self):\n",
        "    return self.numero\n"
      ]
    },
    {
      "cell_type": "code",
      "source": [
        "class Grafo:\n",
        "  def __init__(self, matriz_arestas_passada):\n",
        "    self.matriz_arestas = np.copy(matriz_arestas_passada)\n",
        "    qtd_vertices = np.shape(matriz_arestas)[0]\n",
        "    if(qtd_vertices > 0 and np.shape(matriz_arestas)[0] == np.shape(matriz_arestas)[1]):\n",
        "      self.vertices = []\n",
        "      for i in range(qtd_vertices):\n",
        "        A = Vertice(i+1, [], [])\n",
        "        self.vertices.append(A)\n",
        "      for i in range(qtd_vertices):\n",
        "        for j in range(qtd_vertices):\n",
        "          if(matriz_arestas[i][j] > 0 and matriz_arestas[i][j] != np.inf):\n",
        "            for k in self.vertices:\n",
        "              if(k.numero == j+1):\n",
        "                aux2 = k\n",
        "              if(k.numero == i+1):\n",
        "                aux1 = k\n",
        "            aux1.adj_list_saida.append(aux2.numero)\n",
        "            aux2.adj_list_entrada.append(aux1.numero)\n",
        "\n",
        "  def quantidadeVertices(self):\n",
        "    return len(self.vertices)\n",
        "\n",
        "  def quantidadeArestas(self):\n",
        "    return len(self.arestas)\n",
        "\n"
      ],
      "metadata": {
        "id": "qcxzdeyAnp2Z"
      },
      "execution_count": 3,
      "outputs": []
    },
    {
      "cell_type": "code",
      "source": [
        "def gerarMatriz(linhas, colunas):\n",
        "  result = []\n",
        "  colunas = colunas + 1 #Para gerar uma coluna a mais, pois vou pular a posição 0\n",
        "  for i in range(linhas):\n",
        "    a = []\n",
        "    for j in range(colunas):\n",
        "      a.append(np.inf)\n",
        "    result.append(a)\n",
        "  return result\n",
        ""
      ],
      "metadata": {
        "id": "ogHCBvZ8rvSP"
      },
      "execution_count": 4,
      "outputs": []
    },
    {
      "cell_type": "code",
      "source": [
        "def BellmanFord(G, v):\n",
        "  n = G.quantidadeVertices()\n",
        "  C = gerarMatriz(n,n)\n",
        "  C = np.array(C)\n",
        "  C[0][v] = 0;\n",
        "  #print(C)\n",
        "  for i in range(1, n):\n",
        "    if(i != v):\n",
        "      C[0][i] = np.inf\n",
        "\n",
        "  for l in range(1, n):\n",
        "    for i in range(1, n+1):\n",
        "      lista = []\n",
        "      min_entrada = np.inf\n",
        "      #print(\"i:{}\".format(i))\n",
        "      for j in G.vertices[i-1].adj_list_entrada:\n",
        "        #print(\"C(l-1, j)+w(j, i): {}\".format(C[l-1][j] + G.matriz_arestas[j-1][i-1]))\n",
        "        lista.append(C[l-1][j] + G.matriz_arestas[j-1][i-1])\n",
        "      if(len(lista) > 0):\n",
        "        min_entrada = min(lista)\n",
        "      #print(\"Min:{}\".format(min_entrada))\n",
        "      if(min_entrada < C[l-1][i]):\n",
        "        C[l][i] = min_entrada\n",
        "      else:\n",
        "        C[l][i] = C[l-1][i]\n",
        "\n",
        "  return C[n-1][1:]"
      ],
      "metadata": {
        "id": "vRF6ERQxtaTC"
      },
      "execution_count": 5,
      "outputs": []
    },
    {
      "cell_type": "code",
      "source": [
        "def FloydWarshall(G):\n",
        "  n = G.quantidadeVertices()\n",
        "  conj_matrizes = []\n",
        "  A = G.matriz_arestas.copy()\n",
        "  conj_matrizes.append(A)\n",
        "\n",
        "  for k in range(1, n):\n",
        "    W = conj_matrizes[len(conj_matrizes)-1].copy()\n",
        "    for i in range(n):\n",
        "      for j in range(n):\n",
        "        lista = []\n",
        "        lista.append(conj_matrizes[len(conj_matrizes)-1][i][j])\n",
        "        lista.append(conj_matrizes[len(conj_matrizes)-1][i][k]+conj_matrizes[len(conj_matrizes)-1][k][j])\n",
        "        W[i][j] = min(lista)\n",
        "        conj_matrizes.append(W)\n",
        "\n",
        "  return conj_matrizes[len(conj_matrizes)-1]"
      ],
      "metadata": {
        "id": "uF4Jf7UKzrbs"
      },
      "execution_count": 6,
      "outputs": []
    },
    {
      "cell_type": "code",
      "source": [
        "matriz_arestas = [[0, 1, np.inf ,np.inf],\n",
        "                  [np.inf, 0, 1, np.inf],\n",
        "                  [np.inf, np.inf, 0, 1],\n",
        "                  [1, 1, np.inf, 0]]\n",
        "G = Grafo(matriz_arestas)"
      ],
      "metadata": {
        "id": "_kCNPzCOra_5"
      },
      "execution_count": 7,
      "outputs": []
    },
    {
      "cell_type": "code",
      "source": [
        "from heapq import heapify, heappush, heappop"
      ],
      "metadata": {
        "id": "c56S3MAWKHS4"
      },
      "execution_count": 8,
      "outputs": []
    },
    {
      "cell_type": "code",
      "source": [
        "def Djkstra(G, v):\n",
        "  n = G.quantidadeVertices()\n",
        "  C = []\n",
        "  C.append(-1) #APENAS PARA PULAR O INDICE 0\n",
        "  #ADICIONANDO OS CUSTOS INICIAIS\n",
        "  for i in range(n):\n",
        "    if(i != v-1):\n",
        "      C.append(G.matriz_arestas[v-1][i])\n",
        "    else:\n",
        "      C.append(0)\n",
        "\n",
        "  #VETOR INDICATIVO SE UM VÉRTICE AINDA ESTÁ NA HEAP\n",
        "  pertence_heap = [True] * n\n",
        "\n",
        "  #CRIANDO A HEAP\n",
        "  heap = []\n",
        "  heapify(heap)\n",
        "\n",
        "  #ADICIONANDO VALORES NA HEAP\n",
        "  for i in range(n+1):\n",
        "    if(i != 0):\n",
        "      heappush(heap, C[i])\n",
        "\n",
        "  while( len(heap) != 0 ):\n",
        "    j = heappop(heap)\n",
        "    for i in range(1, n+1):\n",
        "      if C[i] == j and pertence_heap[i-1] == True:\n",
        "        pertence_heap[i-1] = False\n",
        "        num_vet = i\n",
        "\n",
        "    for i in G.vertices[num_vet-1].adj_list_saida:\n",
        "      if(pertence_heap[i-1] == True):\n",
        "        if(C[i] > C[num_vet] + G.matriz_arestas[num_vet-1][i-1]):\n",
        "          for k in range(len(heap)):\n",
        "            if heap[k] == C[i]:\n",
        "              heap[k] = C[num_vet] + G.matriz_arestas[num_vet-1][i-1]\n",
        "              break\n",
        "          C[i] = C[num_vet] + G.matriz_arestas[num_vet-1][i-1]\n",
        "\n",
        "  return C[1:]\n"
      ],
      "metadata": {
        "id": "GrGgoI69KK-n"
      },
      "execution_count": 9,
      "outputs": []
    },
    {
      "cell_type": "code",
      "source": [
        "A = Djkstra(G, 4)\n",
        "A"
      ],
      "metadata": {
        "colab": {
          "base_uri": "https://localhost:8080/"
        },
        "id": "se0u_Sl6gvAw",
        "outputId": "0679bdb3-b20d-4eb7-a888-d40725ab60fd"
      },
      "execution_count": 10,
      "outputs": [
        {
          "output_type": "execute_result",
          "data": {
            "text/plain": [
              "[1.0, 1.0, 2.0, 0]"
            ]
          },
          "metadata": {},
          "execution_count": 10
        }
      ]
    },
    {
      "cell_type": "code",
      "source": [
        "B = BellmanFord(G, 1)\n",
        "B"
      ],
      "metadata": {
        "colab": {
          "base_uri": "https://localhost:8080/"
        },
        "id": "-UjxQO7oiv9o",
        "outputId": "24c4e5fd-30e1-4280-8fef-b63a1b984aca"
      },
      "execution_count": 11,
      "outputs": [
        {
          "output_type": "execute_result",
          "data": {
            "text/plain": [
              "array([0., 1., 2., 3.])"
            ]
          },
          "metadata": {},
          "execution_count": 11
        }
      ]
    },
    {
      "cell_type": "code",
      "source": [
        "C = FloydWarshall(G)\n",
        "C"
      ],
      "metadata": {
        "colab": {
          "base_uri": "https://localhost:8080/"
        },
        "id": "LFhxs38661lW",
        "outputId": "525c55f4-1ea3-4518-a7ab-740b8f62d71f"
      },
      "execution_count": 12,
      "outputs": [
        {
          "output_type": "execute_result",
          "data": {
            "text/plain": [
              "array([[0., 1., 2., 3.],\n",
              "       [3., 0., 1., 2.],\n",
              "       [2., 2., 0., 1.],\n",
              "       [1., 1., 2., 0.]])"
            ]
          },
          "metadata": {},
          "execution_count": 12
        }
      ]
    }
  ]
}