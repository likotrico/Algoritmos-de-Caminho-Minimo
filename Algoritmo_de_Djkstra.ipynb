{
  "cells": [
    {
      "cell_type": "code",
      "execution_count": 1,
      "metadata": {
        "id": "JH5f1aGH0wgH"
      },
      "outputs": [],
      "source": [
        "import numpy as np"
      ]
    },
    {
      "cell_type": "code",
      "execution_count": 2,
      "metadata": {
        "id": "Wc4ODezVm-SZ"
      },
      "outputs": [],
      "source": [
        "class Vertice:\n",
        "  def __init__(self, numero, adj_list_entrada, adj_list_saida):\n",
        "    self.numero = numero\n",
        "    self.adj_list_entrada = adj_list_entrada\n",
        "    self.adj_list_saida = adj_list_saida\n",
        "\n",
        "  def numero(self):\n",
        "    return self.numero\n"
      ]
    },
    {
      "cell_type": "code",
      "execution_count": 3,
      "metadata": {
        "id": "qcxzdeyAnp2Z"
      },
      "outputs": [],
      "source": [
        "class Grafo:\n",
        "  def __init__(self, matriz_arestas_passada):\n",
        "    self.matriz_arestas = np.copy(matriz_arestas_passada)\n",
        "    qtd_vertices = np.shape(matriz_arestas)[0]\n",
        "    if(qtd_vertices > 0 and np.shape(matriz_arestas)[0] == np.shape(matriz_arestas)[1]):\n",
        "      self.vertices = []\n",
        "      for i in range(qtd_vertices):\n",
        "        A = Vertice(i+1, [], [])\n",
        "        self.vertices.append(A)\n",
        "      for i in range(qtd_vertices):\n",
        "        for j in range(qtd_vertices):\n",
        "          if(matriz_arestas[i][j] > 0 and matriz_arestas[i][j] != np.inf):\n",
        "            for k in self.vertices:\n",
        "              if(k.numero == j+1):\n",
        "                aux2 = k\n",
        "              if(k.numero == i+1):\n",
        "                aux1 = k\n",
        "            aux1.adj_list_saida.append(aux2.numero)\n",
        "            aux2.adj_list_entrada.append(aux1.numero)\n",
        "\n",
        "  def quantidadeVertices(self):\n",
        "    return len(self.vertices)\n",
        "\n",
        "  def quantidadeArestas(self):\n",
        "    return len(self.arestas)\n",
        "\n"
      ]
    },
    {
      "cell_type": "code",
      "execution_count": 4,
      "metadata": {
        "id": "ogHCBvZ8rvSP"
      },
      "outputs": [],
      "source": [
        "def gerarMatriz(linhas, colunas):\n",
        "  result = []\n",
        "  colunas = colunas + 1 #Para gerar uma coluna a mais, pois vou pular a posição 0\n",
        "  for i in range(linhas):\n",
        "    a = []\n",
        "    for j in range(colunas):\n",
        "      a.append(np.inf)\n",
        "    result.append(a)\n",
        "  return result\n"
      ]
    },
    {
      "cell_type": "code",
      "execution_count": 7,
      "metadata": {
        "id": "_kCNPzCOra_5"
      },
      "outputs": [],
      "source": [
        "matriz_arestas = [[0, 1, np.inf ,np.inf],\n",
        "                  [np.inf, 0, 1, np.inf],\n",
        "                  [np.inf, np.inf, 0, 1],\n",
        "                  [1, 1, np.inf, 0]]\n",
        "G = Grafo(matriz_arestas)"
      ]
    },
    {
      "cell_type": "code",
      "execution_count": 8,
      "metadata": {
        "id": "c56S3MAWKHS4"
      },
      "outputs": [],
      "source": [
        "from heapq import heapify, heappush, heappop"
      ]
    },
    {
      "cell_type": "code",
      "execution_count": 9,
      "metadata": {
        "id": "GrGgoI69KK-n"
      },
      "outputs": [],
      "source": [
        "def Djkstra(G, v):\n",
        "  n = G.quantidadeVertices()\n",
        "  C = []\n",
        "  C.append(-1) #APENAS PARA PULAR O INDICE 0\n",
        "  #ADICIONANDO OS CUSTOS INICIAIS\n",
        "  for i in range(n):\n",
        "    if(i != v-1):\n",
        "      C.append(G.matriz_arestas[v-1][i])\n",
        "    else:\n",
        "      C.append(0)\n",
        "\n",
        "  #VETOR INDICATIVO SE UM VÉRTICE AINDA ESTÁ NA HEAP\n",
        "  pertence_heap = [True] * n\n",
        "\n",
        "  #CRIANDO A HEAP\n",
        "  heap = []\n",
        "  heapify(heap)\n",
        "\n",
        "  #ADICIONANDO VALORES NA HEAP\n",
        "  for i in range(n+1):\n",
        "    if(i != 0):\n",
        "      heappush(heap, C[i])\n",
        "\n",
        "  while( len(heap) != 0 ):\n",
        "    j = heappop(heap)\n",
        "    for i in range(1, n+1):\n",
        "      if C[i] == j and pertence_heap[i-1] == True:\n",
        "        pertence_heap[i-1] = False\n",
        "        num_vet = i\n",
        "\n",
        "    for i in G.vertices[num_vet-1].adj_list_saida:\n",
        "      if(pertence_heap[i-1] == True):\n",
        "        if(C[i] > C[num_vet] + G.matriz_arestas[num_vet-1][i-1]):\n",
        "          for k in range(len(heap)):\n",
        "            if heap[k] == C[i]:\n",
        "              heap[k] = C[num_vet] + G.matriz_arestas[num_vet-1][i-1]\n",
        "              break\n",
        "          C[i] = C[num_vet] + G.matriz_arestas[num_vet-1][i-1]\n",
        "\n",
        "  return C[1:]\n"
      ]
    },
    {
      "cell_type": "code",
      "execution_count": 10,
      "metadata": {
        "colab": {
          "base_uri": "https://localhost:8080/"
        },
        "id": "se0u_Sl6gvAw",
        "outputId": "0679bdb3-b20d-4eb7-a888-d40725ab60fd"
      },
      "outputs": [
        {
          "data": {
            "text/plain": [
              "[1.0, 1.0, 2.0, 0]"
            ]
          },
          "execution_count": 10,
          "metadata": {},
          "output_type": "execute_result"
        }
      ],
      "source": [
        "A = Djkstra(G, 4)\n",
        "A"
      ]
    }
  ],
  "metadata": {
    "colab": {
      "provenance": []
    },
    "kernelspec": {
      "display_name": "Python 3",
      "name": "python3"
    },
    "language_info": {
      "name": "python"
    }
  },
  "nbformat": 4,
  "nbformat_minor": 0
}
