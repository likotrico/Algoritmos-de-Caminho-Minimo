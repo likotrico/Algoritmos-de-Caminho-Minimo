{
  "cells": [
    {
      "cell_type": "code",
      "execution_count": null,
      "metadata": {
        "id": "JH5f1aGH0wgH"
      },
      "outputs": [],
      "source": [
        "import numpy as np"
      ]
    },
    {
      "cell_type": "code",
      "execution_count": null,
      "metadata": {
        "id": "Wc4ODezVm-SZ"
      },
      "outputs": [],
      "source": [
        "class Vertice:\n",
        "  def __init__(self, numero, adj_list_entrada, adj_list_saida):\n",
        "    self.numero = numero\n",
        "    self.adj_list_entrada = adj_list_entrada\n",
        "    self.adj_list_saida = adj_list_saida\n",
        "\n",
        "  def numero(self):\n",
        "    return self.numero\n"
      ]
    },
    {
      "cell_type": "code",
      "execution_count": null,
      "metadata": {
        "id": "qcxzdeyAnp2Z"
      },
      "outputs": [],
      "source": [
        "class Grafo:\n",
        "  def __init__(self, matriz_arestas_passada):\n",
        "    self.matriz_arestas = np.copy(matriz_arestas_passada)\n",
        "    qtd_vertices = np.shape(matriz_arestas)[0]\n",
        "    if(qtd_vertices > 0 and np.shape(matriz_arestas)[0] == np.shape(matriz_arestas)[1]):\n",
        "      self.vertices = []\n",
        "      for i in range(qtd_vertices):\n",
        "        A = Vertice(i+1, [], [])\n",
        "        self.vertices.append(A)\n",
        "      for i in range(qtd_vertices):\n",
        "        for j in range(qtd_vertices):\n",
        "          if(matriz_arestas[i][j] > 0):\n",
        "            for k in self.vertices:\n",
        "              if(k.numero == j+1):\n",
        "                aux2 = k\n",
        "              if(k.numero == i+1):\n",
        "                aux1 = k\n",
        "            aux1.adj_list_saida.append(aux2.numero)\n",
        "            aux2.adj_list_entrada.append(aux1.numero)\n",
        "\n",
        "  def quantidadeVertices(self):\n",
        "    return len(self.vertices)\n",
        "\n",
        "  def quantidadeArestas(self):\n",
        "    return len(self.arestas)\n",
        "\n"
      ]
    },
    {
      "cell_type": "code",
      "execution_count": null,
      "metadata": {
        "id": "ogHCBvZ8rvSP"
      },
      "outputs": [],
      "source": [
        "def gerarMatriz(linhas, colunas):\n",
        "  result = []\n",
        "  colunas = colunas + 1 #Para gerar uma coluna a mais, pois vou pular a posição 0\n",
        "  for i in range(linhas):\n",
        "    a = []\n",
        "    for j in range(colunas):\n",
        "      a.append(np.inf)\n",
        "    result.append(a)\n",
        "  return result\n"
      ]
    },
    {
      "cell_type": "code",
      "execution_count": null,
      "metadata": {
        "id": "_kCNPzCOra_5"
      },
      "outputs": [],
      "source": [
        "matriz_arestas = [[0, 1, np.inf ,np.inf],\n",
        "                  [np.inf, 0, 1, np.inf],\n",
        "                  [np.inf, np.inf, 0, 1],\n",
        "                  [np.inf, 1, np.inf, 0]]\n",
        "G = Grafo(matriz_arestas)"
      ]
    },
    {
      "cell_type": "code",
      "execution_count": null,
      "metadata": {
        "id": "uF4Jf7UKzrbs"
      },
      "outputs": [],
      "source": [
        "def FloydWarshall(G):\n",
        "  n = G.quantidadeVertices()\n",
        "  conj_matrizes = []\n",
        "  A = G.matriz_arestas.copy()\n",
        "  conj_matrizes.append(A)\n",
        "\n",
        "  for k in range(1, n):\n",
        "    W = conj_matrizes[len(conj_matrizes)-1].copy()\n",
        "    for i in range(n):\n",
        "      for j in range(n):\n",
        "        lista = []\n",
        "        lista.append(conj_matrizes[len(conj_matrizes)-1][i][j])\n",
        "        lista.append(conj_matrizes[len(conj_matrizes)-1][i][k]+conj_matrizes[len(conj_matrizes)-1][k][j])\n",
        "        W[i][j] = min(lista)\n",
        "        conj_matrizes.append(W)\n",
        "\n",
        "  return conj_matrizes[len(conj_matrizes)-1]"
      ]
    },
    {
      "cell_type": "code",
      "execution_count": null,
      "metadata": {
        "colab": {
          "base_uri": "https://localhost:8080/"
        },
        "id": "LFhxs38661lW",
        "outputId": "4798380c-1ad8-4017-cc7e-8b47acc28e64"
      },
      "outputs": [
        {
          "data": {
            "text/plain": [
              "array([[ 0.,  1.,  2.,  3.],\n",
              "       [inf,  0.,  1.,  2.],\n",
              "       [inf,  2.,  0.,  1.],\n",
              "       [inf,  1.,  2.,  0.]])"
            ]
          },
          "execution_count": 14,
          "metadata": {},
          "output_type": "execute_result"
        }
      ],
      "source": [
        "B = FloydWarshall(G)\n",
        "B"
      ]
    }
  ],
  "metadata": {
    "colab": {
      "provenance": []
    },
    "kernelspec": {
      "display_name": "Python 3",
      "name": "python3"
    },
    "language_info": {
      "name": "python"
    }
  },
  "nbformat": 4,
  "nbformat_minor": 0
}
