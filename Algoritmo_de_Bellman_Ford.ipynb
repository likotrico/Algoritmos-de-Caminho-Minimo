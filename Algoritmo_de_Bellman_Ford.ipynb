{
  "nbformat": 4,
  "nbformat_minor": 0,
  "metadata": {
    "colab": {
      "provenance": []
    },
    "kernelspec": {
      "name": "python3",
      "display_name": "Python 3"
    },
    "language_info": {
      "name": "python"
    }
  },
  "cells": [
    {
      "cell_type": "code",
      "source": [
        "import numpy as np"
      ],
      "metadata": {
        "id": "JH5f1aGH0wgH"
      },
      "execution_count": null,
      "outputs": []
    },
    {
      "cell_type": "code",
      "execution_count": null,
      "metadata": {
        "id": "Wc4ODezVm-SZ"
      },
      "outputs": [],
      "source": [
        "class Vertice:\n",
        "  def __init__(self, numero, adj_list_entrada, adj_list_saida):\n",
        "    self.numero = numero\n",
        "    self.adj_list_entrada = adj_list_entrada\n",
        "    self.adj_list_saida = adj_list_saida\n",
        "\n",
        "  def numero(self):\n",
        "    return self.numero\n"
      ]
    },
    {
      "cell_type": "code",
      "source": [
        "class Grafo:\n",
        "  def __init__(self, matriz_arestas_passada):\n",
        "    self.matriz_arestas = np.copy(matriz_arestas_passada)\n",
        "    qtd_vertices = np.shape(matriz_arestas)[0]\n",
        "    if(qtd_vertices > 0 and np.shape(matriz_arestas)[0] == np.shape(matriz_arestas)[1]):\n",
        "      self.vertices = []\n",
        "      for i in range(qtd_vertices):\n",
        "        A = Vertice(i+1, [], [])\n",
        "        self.vertices.append(A)\n",
        "      for i in range(qtd_vertices):\n",
        "        for j in range(qtd_vertices):\n",
        "          if(matriz_arestas[i][j] > 0):\n",
        "            for k in self.vertices:\n",
        "              if(k.numero == j+1):\n",
        "                aux2 = k\n",
        "              if(k.numero == i+1):\n",
        "                aux1 = k\n",
        "            aux1.adj_list_saida.append(aux2.numero)\n",
        "            aux2.adj_list_entrada.append(aux1.numero)\n",
        "\n",
        "  def quantidadeVertices(self):\n",
        "    return len(self.vertices)\n",
        "\n",
        "  def quantidadeArestas(self):\n",
        "    return len(self.arestas)\n",
        "\n"
      ],
      "metadata": {
        "id": "qcxzdeyAnp2Z"
      },
      "execution_count": null,
      "outputs": []
    },
    {
      "cell_type": "code",
      "source": [
        "def gerarMatriz(linhas, colunas):\n",
        "  result = []\n",
        "  colunas = colunas + 1 #Para gerar uma coluna a mais, pois vou pular a posição 0\n",
        "  for i in range(linhas):\n",
        "    a = []\n",
        "    for j in range(colunas):\n",
        "      a.append(np.inf)\n",
        "    result.append(a)\n",
        "  return result\n",
        ""
      ],
      "metadata": {
        "id": "ogHCBvZ8rvSP"
      },
      "execution_count": null,
      "outputs": []
    },
    {
      "cell_type": "code",
      "source": [
        "def BellmanFord(G, v):\n",
        "  n = G.quantidadeVertices()\n",
        "  C = gerarMatriz(n,n)\n",
        "  C = np.array(C)\n",
        "  C[0][v] = 0;\n",
        "  #print(C)\n",
        "  for i in range(1, n):\n",
        "    if(i != v):\n",
        "      C[0][i] = np.inf\n",
        "\n",
        "  for l in range(1, n):\n",
        "    for i in range(1, n+1):\n",
        "      lista = []\n",
        "      min_entrada = np.inf\n",
        "      #print(\"i:{}\".format(i))\n",
        "      for j in G.vertices[i-1].adj_list_entrada:\n",
        "        #print(\"C(l-1, j)+w(j, i): {}\".format(C[l-1][j] + G.matriz_arestas[j-1][i-1]))\n",
        "        lista.append(C[l-1][j] + G.matriz_arestas[j-1][i-1])\n",
        "      if(len(lista) > 0):\n",
        "        min_entrada = min(lista)\n",
        "      #print(\"Min:{}\".format(min_entrada))\n",
        "      if(min_entrada < C[l-1][i]):\n",
        "        C[l][i] = min_entrada\n",
        "      else:\n",
        "        C[l][i] = C[l-1][i]\n",
        "\n",
        "  return C[n-1][1:]"
      ],
      "metadata": {
        "id": "vRF6ERQxtaTC"
      },
      "execution_count": null,
      "outputs": []
    },
    {
      "cell_type": "code",
      "source": [
        "matriz_arestas = [[0, 1, np.inf ,np.inf],\n",
        "                  [np.inf, 0, 1, np.inf],\n",
        "                  [np.inf, np.inf, 0, 1],\n",
        "                  [np.inf, 1, np.inf, 0]]\n",
        "G = Grafo(matriz_arestas)"
      ],
      "metadata": {
        "id": "_kCNPzCOra_5"
      },
      "execution_count": null,
      "outputs": []
    },
    {
      "cell_type": "code",
      "source": [
        "A = BellmanFord(G, 4)\n",
        "A"
      ],
      "metadata": {
        "colab": {
          "base_uri": "https://localhost:8080/"
        },
        "id": "-UjxQO7oiv9o",
        "outputId": "050b607e-15f8-4ce1-8b89-649cc62c5762"
      },
      "execution_count": null,
      "outputs": [
        {
          "output_type": "execute_result",
          "data": {
            "text/plain": [
              "array([inf,  1.,  2.,  0.])"
            ]
          },
          "metadata": {},
          "execution_count": 11
        }
      ]
    },
    {
      "cell_type": "code",
      "source": [
        "def FloydWarshall(G):\n",
        "  n = G.quantidadeVertices()\n",
        "  conj_matrizes = []\n",
        "  A = G.matriz_arestas.copy()\n",
        "  conj_matrizes.append(A)\n",
        "\n",
        "  for k in range(1, n):\n",
        "    W = conj_matrizes[len(conj_matrizes)-1].copy()\n",
        "    for i in range(n):\n",
        "      for j in range(n):\n",
        "        lista = []\n",
        "        lista.append(conj_matrizes[len(conj_matrizes)-1][i][j])\n",
        "        lista.append(conj_matrizes[len(conj_matrizes)-1][i][k]+conj_matrizes[len(conj_matrizes)-1][k][j])\n",
        "        W[i][j] = min(lista)\n",
        "        conj_matrizes.append(W)\n",
        "\n",
        "  return conj_matrizes[len(conj_matrizes)-1]"
      ],
      "metadata": {
        "id": "uF4Jf7UKzrbs"
      },
      "execution_count": null,
      "outputs": []
    },
    {
      "cell_type": "code",
      "source": [
        "B = FloydWarshall(G)\n",
        "B"
      ],
      "metadata": {
        "colab": {
          "base_uri": "https://localhost:8080/"
        },
        "id": "LFhxs38661lW",
        "outputId": "4798380c-1ad8-4017-cc7e-8b47acc28e64"
      },
      "execution_count": null,
      "outputs": [
        {
          "output_type": "execute_result",
          "data": {
            "text/plain": [
              "array([[ 0.,  1.,  2.,  3.],\n",
              "       [inf,  0.,  1.,  2.],\n",
              "       [inf,  2.,  0.,  1.],\n",
              "       [inf,  1.,  2.,  0.]])"
            ]
          },
          "metadata": {},
          "execution_count": 14
        }
      ]
    }
  ]
}